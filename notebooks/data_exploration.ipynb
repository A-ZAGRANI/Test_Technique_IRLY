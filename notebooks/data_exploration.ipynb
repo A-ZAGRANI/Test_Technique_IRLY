{
 "cells": [
  {
   "cell_type": "markdown",
   "id": "b3bee5b3",
   "metadata": {},
   "source": [
    "# Exploration des Données"
   ]
  },
  {
   "cell_type": "markdown",
   "id": "93b787d7",
   "metadata": {},
   "source": [
    "\n",
    "Ce notebook permet de charger et d'explorer les données afin de mieux comprendre leur structure \n",
    "et de préparer les étapes de prétraitement nécessaires.\n"
   ]
  },
  {
   "cell_type": "code",
   "execution_count": null,
   "id": "ff69b0c0",
   "metadata": {},
   "outputs": [],
   "source": [
    "\n",
    "# Import des bibliothèques nécessaires\n",
    "import pandas as pd\n",
    "import matplotlib.pyplot as plt\n",
    "import seaborn as sns\n"
   ]
  },
  {
   "cell_type": "code",
   "execution_count": null,
   "id": "0b8e0423",
   "metadata": {},
   "outputs": [],
   "source": [
    "\n",
    "# Chargement des données (Remplacez par le chemin de vos données)\n",
    "file_path = \"C:/Projet/Test_technique_IRLY_Cleaned/data/amazon_reviews_real_subset.csv\" \n",
    "try:\n",
    "    data = pd.read_csv(file_path)\n",
    "    print(\"Aperçu des données :\")\n",
    "    display(data.head())\n",
    "except FileNotFoundError:\n",
    "    print(f\"Fichier non trouvé : {file_path}. Veuillez vérifier le chemin.\")\n"
   ]
  },
  {
   "cell_type": "code",
   "execution_count": null,
   "id": "d6c289bd",
   "metadata": {},
   "outputs": [],
   "source": [
    "\n",
    "# Analyse des colonnes et des types de données\n",
    "print(\"Types de colonnes :\")\n",
    "print(data.dtypes)\n",
    "\n",
    "print(\"\\nStatistiques descriptives :\")\n",
    "display(data.describe())\n"
   ]
  },
  {
   "cell_type": "code",
   "execution_count": null,
   "id": "9ae22d73",
   "metadata": {},
   "outputs": [],
   "source": [
    "\n",
    "# Distribution des valeurs pour une colonne numérique (remplacez 'column_name')\n",
    "column_name = 'rating'  # Exemple\n",
    "if column_name in data.columns:\n",
    "    sns.histplot(data[column_name], kde=True, bins=30)\n",
    "    plt.title(f\"Distribution de la colonne {column_name}\")\n",
    "    plt.show()\n",
    "else:\n",
    "    print(f\"Colonne '{column_name}' non trouvée dans les données.\")\n"
   ]
  },
  {
   "cell_type": "code",
   "execution_count": null,
   "id": "2695be1b",
   "metadata": {},
   "outputs": [],
   "source": [
    "\n",
    "# Analyse des valeurs manquantes\n",
    "missing_values = data.isnull().sum()\n",
    "print(\"Valeurs manquantes par colonne :\")\n",
    "print(missing_values[missing_values > 0])\n"
   ]
  }
 ],
 "metadata": {
  "language_info": {
   "name": "python"
  }
 },
 "nbformat": 4,
 "nbformat_minor": 5
}
