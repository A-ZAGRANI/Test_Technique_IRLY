{
 "cells": [
  {
   "cell_type": "markdown",
   "id": "71efb60e",
   "metadata": {},
   "source": [
    "# Exploration des Données Réelles"
   ]
  },
  {
   "cell_type": "markdown",
   "id": "e8966a54",
   "metadata": {},
   "source": [
    "\n",
    "Ce notebook explore le sous-ensemble réel des données Amazon Reviews pour la catégorie sélectionnée.\n",
    "L'objectif est de mieux comprendre les caractéristiques des données et d'identifier les anomalies potentielles.\n"
   ]
  },
  {
   "cell_type": "code",
   "execution_count": null,
   "id": "902b8d37",
   "metadata": {},
   "outputs": [],
   "source": [
    "\n",
    "# Import des bibliothèques nécessaires\n",
    "import pandas as pd\n",
    "import matplotlib.pyplot as plt\n",
    "import seaborn as sns\n",
    "\n",
    "# Chargement des données réelles\n",
    "file_path = \"C:/Projet/Test_technique_IRLY_Cleaned/data/amazon_reviews_real_subset.csv\"\n",
    "data = pd.read_csv(file_path)\n",
    "print(\"Aperçu des données :\")\n",
    "data.head()\n"
   ]
  },
  {
   "cell_type": "code",
   "execution_count": null,
   "id": "fb62496d",
   "metadata": {},
   "outputs": [],
   "source": [
    "\n",
    "# Statistiques descriptives\n",
    "print(\"Statistiques descriptives :\")\n",
    "data.describe()\n"
   ]
  },
  {
   "cell_type": "code",
   "execution_count": null,
   "id": "26e5809b",
   "metadata": {},
   "outputs": [],
   "source": [
    "\n",
    "# Distribution des notes (ratings)\n",
    "sns.histplot(data['rating'], bins=5, kde=False)\n",
    "plt.title(\"Distribution des notes (ratings)\")\n",
    "plt.xlabel(\"Note\")\n",
    "plt.ylabel(\"Nombre de reviews\")\n",
    "plt.show()\n"
   ]
  },
  {
   "cell_type": "code",
   "execution_count": null,
   "id": "71697765",
   "metadata": {},
   "outputs": [],
   "source": [
    "\n",
    "# Analyse des dates de reviews\n",
    "data['timestamp'] = pd.to_datetime(data['timestamp'])\n",
    "data['timestamp'].hist(bins=10, grid=False)\n",
    "plt.title(\"Répartition des reviews dans le temps\")\n",
    "plt.xlabel(\"Date\")\n",
    "plt.ylabel(\"Nombre de reviews\")\n",
    "plt.show()\n"
   ]
  },
  {
   "cell_type": "code",
   "execution_count": null,
   "id": "0788592e",
   "metadata": {},
   "outputs": [],
   "source": [
    "\n",
    "# Valeurs manquantes\n",
    "print(\"Valeurs manquantes par colonne :\")\n",
    "print(data.isnull().sum())\n"
   ]
  }
 ],
 "metadata": {
  "language_info": {
   "name": "python"
  }
 },
 "nbformat": 4,
 "nbformat_minor": 5
}
