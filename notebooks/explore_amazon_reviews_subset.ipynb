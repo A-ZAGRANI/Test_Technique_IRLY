{
 "cells": [
  {
   "cell_type": "markdown",
   "id": "f107fbe0",
   "metadata": {},
   "source": [
    "# Exploration du Sous-ensemble Amazon Reviews"
   ]
  },
  {
   "cell_type": "markdown",
   "id": "e9eca9b3",
   "metadata": {},
   "source": [
    "\n",
    "Ce notebook permet d'explorer le sous-ensemble du jeu de données Amazon Reviews téléchargé.\n",
    "L'objectif est d'analyser sa structure, ses caractéristiques, et de préparer les données pour la suite du projet.\n"
   ]
  },
  {
   "cell_type": "code",
   "execution_count": null,
   "id": "b81535d1",
   "metadata": {},
   "outputs": [],
   "source": [
    "\n",
    "# Import des bibliothèques nécessaires\n",
    "import pandas as pd\n",
    "import matplotlib.pyplot as plt\n",
    "import seaborn as sns\n",
    "\n",
    "# Chemin du fichier de données\n",
    "file_path = \"C:/Projet/Test_technique_IRLY_Cleaned/data/amazon_reviews_real_subset.csv\"\n",
    "\n",
    "# Chargement des données\n",
    "data = pd.read_csv(file_path)\n",
    "print(\"Aperçu des données :\")\n",
    "data.head()\n"
   ]
  },
  {
   "cell_type": "code",
   "execution_count": null,
   "id": "f410d965",
   "metadata": {},
   "outputs": [],
   "source": [
    "\n",
    "# Statistiques descriptives\n",
    "print(\"Statistiques descriptives :\")\n",
    "data.describe()\n"
   ]
  },
  {
   "cell_type": "code",
   "execution_count": null,
   "id": "cec987a1",
   "metadata": {},
   "outputs": [],
   "source": [
    "\n",
    "# Distribution des notes (ratings)\n",
    "sns.histplot(data['rating'], bins=5, kde=False)\n",
    "plt.title(\"Distribution des notes (ratings)\")\n",
    "plt.xlabel(\"Note\")\n",
    "plt.ylabel(\"Nombre de reviews\")\n",
    "plt.show()\n"
   ]
  },
  {
   "cell_type": "code",
   "execution_count": null,
   "id": "e8a51e46",
   "metadata": {},
   "outputs": [],
   "source": [
    "\n",
    "# Analyse des dates de reviews\n",
    "data['review_date'] = pd.to_datetime(data['review_date'])\n",
    "data['review_date'].hist(bins=10, grid=False)\n",
    "plt.title(\"Répartition des reviews dans le temps\")\n",
    "plt.xlabel(\"Date\")\n",
    "plt.ylabel(\"Nombre de reviews\")\n",
    "plt.show()\n"
   ]
  },
  {
   "cell_type": "code",
   "execution_count": null,
   "id": "680adc12",
   "metadata": {},
   "outputs": [],
   "source": [
    "\n",
    "# Valeurs manquantes\n",
    "print(\"Valeurs manquantes par colonne :\")\n",
    "print(data.isnull().sum())\n"
   ]
  }
 ],
 "metadata": {
  "language_info": {
   "name": "python"
  }
 },
 "nbformat": 4,
 "nbformat_minor": 5
}
